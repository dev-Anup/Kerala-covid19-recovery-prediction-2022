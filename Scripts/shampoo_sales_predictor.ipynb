{
  "cells": [
    {
      "cell_type": "code",
      "execution_count": null,
      "metadata": {
        "id": "3gDEYlxy4G6_"
      },
      "outputs": [],
      "source": [
        "import pandas as pd\n",
        "from matplotlib import pyplot\n",
        "from datetime import datetime\n",
        "from pandas.plotting import autocorrelation_plot\n",
        "from pandas import DataFrame\n",
        "from math import sqrt\n",
        "from sklearn.metrics import mean_squared_error\n",
        "from statsmodels.tsa.arima.model import ARIMA"
      ]
    },
    {
      "cell_type": "code",
      "execution_count": null,
      "metadata": {
        "id": "Y1afmHDEgWR9"
      },
      "outputs": [],
      "source": [
        "def parser_1(x):\n",
        "\treturn pd.datetime.strptime(x, '%d-%m-%Y')"
      ]
    },
    {
      "cell_type": "code",
      "execution_count": null,
      "metadata": {
        "colab": {
          "base_uri": "https://localhost:8080/"
        },
        "id": "Cwvy6l9iBUEu",
        "outputId": "47cb5d8d-f4bb-4ca7-982d-77b8f273004a"
      },
      "outputs": [],
      "source": [
        "kerala_data_loc = '../Data/GoK Dashboard  Official Kerala COVID-19 Statistics.csv'\n",
        "kerala_data = pd.read_csv(kerala_data_loc, header=0, parse_dates=[0], index_col=0, squeeze=True, date_parser=parser_1)\n",
        "kerala_data.index = kerala_data.index.to_period('M')"
      ]
    },
    {
      "cell_type": "code",
      "execution_count": null,
      "metadata": {
        "colab": {
          "base_uri": "https://localhost:8080/",
          "height": 235
        },
        "id": "9cvOX-l8KZCE",
        "outputId": "47a00310-f7e3-4f89-d82f-7e70799e0b23"
      },
      "outputs": [],
      "source": [
        "kerala_data.head()"
      ]
    },
    {
      "cell_type": "code",
      "execution_count": null,
      "metadata": {
        "id": "OEgDv4ruKi2n"
      },
      "outputs": [],
      "source": [
        "kerala_data = kerala_data.drop(['Confirmed','Active','Death'], axis = 1)"
      ]
    },
    {
      "cell_type": "code",
      "execution_count": null,
      "metadata": {
        "colab": {
          "base_uri": "https://localhost:8080/",
          "height": 308
        },
        "id": "bT-w95ojKuz5",
        "outputId": "e1e55e11-0376-4d92-b433-b12eee31d6d1"
      },
      "outputs": [],
      "source": [
        "kerala_data.plot()"
      ]
    },
    {
      "cell_type": "code",
      "execution_count": null,
      "metadata": {
        "colab": {
          "base_uri": "https://localhost:8080/",
          "height": 300
        },
        "id": "ozxRYIw0LJQd",
        "outputId": "73ff1728-ce32-4482-b001-1740a1b88a5e"
      },
      "outputs": [],
      "source": [
        "autocorrelation_plot(kerala_data)"
      ]
    },
    {
      "cell_type": "code",
      "execution_count": null,
      "metadata": {
        "colab": {
          "base_uri": "https://localhost:8080/"
        },
        "id": "8pwQ5-j6L-HC",
        "outputId": "c38feeec-d5aa-4016-835f-9c77ed1265c8"
      },
      "outputs": [],
      "source": [
        "X = kerala_data.values\n",
        "size = int(len(X) * 0.7)\n",
        "train, test = X[0:size], X[size:len(X)]\n",
        "history = [x for x in train]\n",
        "predictions = list()\n",
        "for t in range(len(test)):\n",
        "\tmodel = ARIMA(history, order=(5,1,0))\n",
        "\tmodel_fit = model.fit()\n",
        "\toutput = model_fit.forecast()\n",
        "\tyhat = output[0]\n",
        "\tpredictions.append(yhat)\n",
        "\tobs = test[t]\n",
        "\thistory.append(obs)\n",
        "\tprint('predicted=%f, expected=%f' % (yhat, obs))\n",
        "rmse = sqrt(mean_squared_error(test, predictions))\n",
        "print('Test RMSE: %.3f' % rmse)"
      ]
    },
    {
      "cell_type": "code",
      "execution_count": null,
      "metadata": {
        "id": "N8y6_h90QenV"
      },
      "outputs": [],
      "source": [
        "compare_kerala_data = kerala_data\n",
        "compare_kerala_data = compare_kerala_data.iloc[size:,:]"
      ]
    },
    {
      "cell_type": "code",
      "execution_count": null,
      "metadata": {
        "colab": {
          "base_uri": "https://localhost:8080/"
        },
        "id": "fYlJViOuVVrj",
        "outputId": "f5e6027e-e079-47c8-aba1-a7ec62fd29f7"
      },
      "outputs": [],
      "source": [
        "compare_kerala_data['Predicted'] = predictions"
      ]
    },
    {
      "cell_type": "code",
      "execution_count": null,
      "metadata": {
        "colab": {
          "base_uri": "https://localhost:8080/",
          "height": 450
        },
        "id": "MP7HN_Qke_QI",
        "outputId": "1ff7d7fa-c3a6-425e-b284-c043659fd749"
      },
      "outputs": [],
      "source": [
        "compare_kerala_data"
      ]
    },
    {
      "cell_type": "code",
      "execution_count": null,
      "metadata": {
        "colab": {
          "base_uri": "https://localhost:8080/",
          "height": 308
        },
        "id": "kuE5elteiqSD",
        "outputId": "49ccbae3-501b-4ace-ef7b-9990d7a23efe"
      },
      "outputs": [],
      "source": [
        "compare_kerala_data.plot()"
      ]
    }
  ],
  "metadata": {
    "colab": {
      "name": "shampoo_sales_predictor.ipynb",
      "provenance": []
    },
    "kernelspec": {
      "display_name": "Python 3",
      "name": "python3"
    },
    "language_info": {
      "name": "python"
    }
  },
  "nbformat": 4,
  "nbformat_minor": 0
}
